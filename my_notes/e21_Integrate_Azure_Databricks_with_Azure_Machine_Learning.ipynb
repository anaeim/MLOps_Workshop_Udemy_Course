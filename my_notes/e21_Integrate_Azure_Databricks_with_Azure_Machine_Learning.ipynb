{
 "cells": [
  {
   "attachments": {},
   "cell_type": "markdown",
   "metadata": {},
   "source": [
    "azure github notebook for aml-pipelines-use-databricks-as-compute-target: [link](https://github.com/Azure/MachineLearningNotebooks/blob/master/how-to-use-azureml/machine-learning-pipelines/intro-to-pipelines/aml-pipelines-use-databricks-as-compute-target.ipynb) "
   ]
  },
  {
   "attachments": {},
   "cell_type": "markdown",
   "metadata": {},
   "source": [
    "# 📘 Azure DevOps Pipeline – Run Databricks Notebook\n",
    "\n",
    "This guide explains how to configure an Azure DevOps CI/CD pipeline step that executes a notebook on Databricks using the Databricks CLI.\n",
    "\n",
    "---\n",
    "\n",
    "## 📄 YAML Pipeline Snippet\n",
    "\n",
    "```yaml\n",
    "- script: |\n",
    "    databricks jobs create --json '{\n",
    "      \"name\": \"RunNotebookJob\",\n",
    "      \"existing_cluster_id\": \"<your-cluster-id>\",\n",
    "      \"notebook_task\": {\n",
    "        \"notebook_path\": \"/Users/your_user@example.com/your_notebook_path\"\n",
    "      }\n",
    "    }' > job.json\n",
    "\n",
    "    JOB_ID=$(cat job.json | jq -r '.job_id')\n",
    "    databricks jobs run-now --job-id $$JOB_ID\n",
    "  displayName: 'Run Databricks Notebook'\n",
    "```\n",
    "\n",
    "---\n",
    "\n",
    "## 🧾 Variable Explanation\n",
    "\n",
    "| Variable / Value | Description |\n",
    "|------------------|-------------|\n",
    "| `<your-cluster-id>` | The ID of the Databricks cluster to use for running the notebook. You can find this in the Databricks UI under **Clusters > [Your Cluster] > Cluster ID**. |\n",
    "| `/Users/your_user@example.com/your_notebook_path` | The full workspace path to the notebook you want to execute. You can copy this path directly from the Databricks UI by right-clicking the notebook. Paths are case-sensitive. |\n",
    "| `job.json` | A temporary JSON file that stores the output of the `databricks jobs create` command. This file contains the generated job ID. |\n",
    "| `JOB_ID=$(cat job.json \\| jq -r '.job_id')` | This command extracts the `job_id` field from `job.json` using `jq`, so the job can be executed in the next step. |\n",
    "| `$$JOB_ID` | The double dollar sign escapes the variable for YAML, ensuring the shell interprets it correctly as the `JOB_ID` environment variable. |\n",
    "\n",
    "---"
   ]
  }
 ],
 "metadata": {
  "kernelspec": {
   "display_name": "langchain",
   "language": "python",
   "name": "python3"
  },
  "language_info": {
   "name": "python",
   "version": "3.10.13"
  },
  "orig_nbformat": 4
 },
 "nbformat": 4,
 "nbformat_minor": 2
}
